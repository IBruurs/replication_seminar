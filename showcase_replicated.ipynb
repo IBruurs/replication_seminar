{
 "cells": [
  {
   "cell_type": "code",
   "execution_count": null,
   "id": "ee8415d8",
   "metadata": {},
   "outputs": [],
   "source": [
    "%load_ext autoreload\n",
    "%autoreload 2\n",
    "import warnings\n",
    "warnings.filterwarnings('ignore')"
   ]
  },
  {
   "cell_type": "code",
   "execution_count": null,
   "id": "4a32fe85-8fb9-466e-9f1d-97897dadc635",
   "metadata": {},
   "outputs": [],
   "source": [
    "import os\n",
    "import sys\n",
    "import pandas as pd"
   ]
  },
  {
   "cell_type": "code",
   "execution_count": null,
   "id": "a1d6ef5b",
   "metadata": {},
   "outputs": [],
   "source": [
    "module_path = os.path.abspath(os.path.join('..'))\n",
    "if module_path not in sys.path:  \n",
    "    sys.path.append(module_path)"
   ]
  },
  {
   "cell_type": "code",
   "execution_count": null,
   "id": "070b05a0-c058-4f4e-afe6-21c952143d22",
   "metadata": {},
   "outputs": [],
   "source": [
    "from vadbp.variant_comparator import VariantComparator\n",
    "from vadbp.visual_variant_comparator import VisualVariantComparator"
   ]
  },
  {
   "cell_type": "code",
   "execution_count": null,
   "id": "be06107f",
   "metadata": {},
   "outputs": [],
   "source": [
    "def clean_df(df):\n",
    "    df.drop([\"Unnamed: 0\"], axis=1, inplace=True)\n",
    "    return VariantComparator.format_df(df, case_id='hadm_id', activity_key='department', timestamp_key='intime')"
   ]
  },
  {
   "cell_type": "markdown",
   "id": "9aff3184-df18-4a56-8038-518648360754",
   "metadata": {},
   "source": [
    "# Data Loading"
   ]
  },
  {
   "cell_type": "code",
   "execution_count": null,
   "id": "9bad2974",
   "metadata": {},
   "outputs": [],
   "source": [
    "kidney_data = pd.read_csv('Kidney_Log.csv')\n",
    "kidney_data = clean_df(kidney_data)\n"
   ]
  },
  {
   "cell_type": "code",
   "execution_count": null,
   "id": "f6ecd592",
   "metadata": {},
   "outputs": [],
   "source": [
    "department_list = ['Emergency Department', 'Medical ICU', 'Surgical ICU', 'Post-ICU Medicine', 'Discharged']\n",
    "\n",
    "kidney_data = kidney_data[kidney_data['department'].isin(department_list)]\n",
    "\n",
    "subject_over_60_kidney  = kidney_data[kidney_data['age']>60]['case:concept:name']\n",
    "subject_under_60_kidney  = kidney_data[kidney_data['age']<=60]['case:concept:name']\n",
    "kidney_over_60 = kidney_data[kidney_data['case:concept:name'].isin(subject_over_60_kidney)]\n",
    "kidney_under_60 = kidney_data[kidney_data['case:concept:name'].isin(subject_under_60_kidney)]"
   ]
  },
  {
   "cell_type": "markdown",
   "id": "f811acce-ba32-466e-90b7-be7668d8698b",
   "metadata": {
    "tags": []
   },
   "source": [
    "# Visualization"
   ]
  },
  {
   "cell_type": "markdown",
   "id": "9095b486-baf7-484c-97c2-8290cd9f6993",
   "metadata": {
    "tags": []
   },
   "source": [
    "## Kidney Data Age Comparator"
   ]
  },
  {
   "cell_type": "code",
   "execution_count": null,
   "id": "ed1742f5-585b-49f9-ae62-401b6b145d01",
   "metadata": {},
   "outputs": [],
   "source": [
    "varcop_kidney = VariantComparator(kidney_over_60, kidney_under_60, kidney_data, 'Over 60', 'Under 60')\n",
    "varcop_kidney.prepare()"
   ]
  },
  {
   "cell_type": "code",
   "execution_count": null,
   "id": "acd34b5f",
   "metadata": {},
   "outputs": [],
   "source": [
    "os.environ[\"PATH\"] += os.pathsep + 'path/Graphviz-12.1.1-win64/bin'"
   ]
  },
  {
   "cell_type": "code",
   "execution_count": null,
   "id": "81c21b56-8ffe-4d09-8082-926ee74403b2",
   "metadata": {},
   "outputs": [],
   "source": [
    "visual_comp_kidney = VisualVariantComparator(varcop_kidney)\n",
    "visual_comp_kidney.show()"
   ]
  },
  {
   "cell_type": "code",
   "execution_count": null,
   "id": "465ce0c7-a798-40eb-93af-e928ad07b346",
   "metadata": {},
   "outputs": [],
   "source": [
    "from scipy.stats import mannwhitneyu\n",
    "import pingouin as pg\n",
    "import numpy as np\n",
    "from matplotlib.ticker import PercentFormatter\n",
    "from matplotlib import pyplot as plt, image as mpimg"
   ]
  },
  {
   "cell_type": "code",
   "execution_count": null,
   "id": "092bbb8c",
   "metadata": {},
   "outputs": [],
   "source": [
    "old_color = '#1f77b4'\n",
    "young_color = '#ff7f0e'\n",
    "\n",
    "def prepare_logs_node(data, attribute, department_attr, continuous=True):\n",
    "    #process possible loops and filter the correct department and attribute\n",
    "    data = data[data['concept:name']==department_attr]\n",
    "    if continuous:\n",
    "        data_new = data.groupby(by=[\"case:concept:name\", \"concept:name\"]).mean()\n",
    "    else: \n",
    "        data_new = data.groupby([\"case:concept:name\", \"concept:name\"]).apply(pd.DataFrame.mode).reset_index(drop=True)\n",
    "        # print(data_new)\n",
    "    return data_new[attribute]\n",
    "\n",
    "def do_statistics_node(young, old, attribute, department_attr, continuous=True, show_fig=False):\n",
    "    #apply the statistic tests\n",
    "    young = prepare_logs_node(young, attribute, department_attr, continuous=continuous)\n",
    "    old = prepare_logs_node(old, attribute, department_attr, continuous=continuous)\n",
    "    print('young count:', len(young.dropna()))\n",
    "    print('old count', len(old.dropna()))\n",
    "    if show_fig and continuous:\n",
    "        make_figure(young, old, attribute)\n",
    "    if continuous:\n",
    "        return pg.mwu(young, old) \n",
    "    else: \n",
    "        df_y = pd.DataFrame(data={attribute: pd.Series(young.tolist())})\n",
    "        df_y['Age'] = '<60'\n",
    "        df_o = pd.DataFrame(data={attribute: pd.Series(old.tolist())})\n",
    "        df_o['Age'] = '>60'\n",
    "        df_combined = pd.concat([df_y, df_o])\n",
    "        #print(df_combined)\n",
    "        _, _, stats = pg.chi2_independence(df_combined, x='Age', y=attribute)\n",
    "        pearson_stats = stats[stats['test'] == 'pearson']\n",
    "        if show_fig:\n",
    "            make_figure_cat(young.tolist(), old.tolist(), attribute)\n",
    "        return pearson_stats\n",
    "\n",
    "def make_figure(young, old, attribute):\n",
    "    #create the plot for the statistical test\n",
    "    fig = plt.figure(figsize=(15, 5))\n",
    "\n",
    "    # Plot histograms with transparency for overlap effect\n",
    "    plt.hist(young, alpha=0.5,edgecolor=young_color, density=True, histtype= 'step', label='under 60', linewidth=3)\n",
    "    plt.hist(old, alpha=0.5, edgecolor=old_color, density=True, histtype='step', label='over 60', linewidth=3)\n",
    "\n",
    "    # Add titles and labels\n",
    "    plt.xlabel(attribute)\n",
    "    plt.ylabel('%')\n",
    "    plt.title(f'Comparison of {attribute} values between over 60 and under 60')\n",
    "\n",
    "    # Add legend to distinguish groups\n",
    "    plt.legend()\n",
    "    plt.gca().yaxis.set_major_formatter(PercentFormatter(1))\n",
    "\n",
    "    # Display plot\n",
    "    fig.show()\n",
    "    \n",
    "def make_figure_cat(labels_y, labels_o, attribute):\n",
    "    # Calculate counts for each unique label\n",
    "    labels_left, counts_l = np.unique(labels_y, return_counts=True)\n",
    "    labels_right, counts_r = np.unique(labels_o, return_counts=True)\n",
    "\n",
    "    all_labels = list(set(labels_left) | set(labels_right))  # Unique set of all categories\n",
    "    #make sure the order is correct\n",
    "    counts_left = {label: 0 for label in all_labels} \n",
    "    counts_right = {label: 0 for label in all_labels}\n",
    "\n",
    "    for label, count in zip(labels_left, counts_l):\n",
    "        counts_left[label] = (count - 1) / len(labels_y)\n",
    "    for label, count in zip(labels_right, counts_r):\n",
    "        counts_right[label] = (count - 1) / len(labels_o)\n",
    "\n",
    "    # Prepare data for the bars in the correct order\n",
    "    counts_left = [counts_left[label] for label in all_labels]\n",
    "    counts_right = [counts_right[label] for label in all_labels]\n",
    "\n",
    "    fig, ax = plt.subplots(figsize=(15, 5))\n",
    "\n",
    "    ax.set_title(f'Comparison of {attribute} values between over 60 and under 60')\n",
    "\n",
    "    ind = np.arange(len(all_labels))\n",
    "    width = 0.2\n",
    "\n",
    "    # Create the bar plots\n",
    "    bars_left = ax.bar(ind, counts_left, width, label='under 60', color=young_color)\n",
    "    bars_right = ax.bar(ind + width, counts_right, width, label='over 60', color=old_color)\n",
    "\n",
    "    # Add actual values on top of each bar\n",
    "    for bar in bars_left:\n",
    "        height = bar.get_height()\n",
    "        ax.text(bar.get_x() + bar.get_width() / 2, height, f'{height:.2%}', ha='center', va='bottom')\n",
    "\n",
    "    for bar in bars_right:\n",
    "        height = bar.get_height()\n",
    "        ax.text(bar.get_x() + bar.get_width() / 2, height, f'{height:.2%}', ha='center', va='bottom')\n",
    "\n",
    "    ax.set_xticks(ind + width / 2)# rotation=90)\n",
    "    ax.set_xticklabels(all_labels)\n",
    "    ax.legend(loc='best')\n",
    "    ax.set_xlabel(attribute)\n",
    "    ax.set_ylabel('%')\n",
    "    plt.xticks(rotation=90)\n",
    "    plt.gca().yaxis.set_major_formatter(PercentFormatter(1))\n",
    "    return fig\n"
   ]
  },
  {
   "cell_type": "code",
   "execution_count": null,
   "id": "f9c0a7c4",
   "metadata": {},
   "outputs": [],
   "source": [
    "do_statistics_node(kidney_under_60, kidney_over_60, 'heartrate', 'Emergency Department', show_fig=True)"
   ]
  },
  {
   "cell_type": "code",
   "execution_count": null,
   "id": "e7238e49",
   "metadata": {},
   "outputs": [],
   "source": [
    "def prepare_edge_df(data, continuous=True):\n",
    "    #shift the dataframe such that next activities appear on the same row\n",
    "    joined = data.join(data.shift(-1), lsuffix='_l', rsuffix='_r')\n",
    "    #keep only if same case id\n",
    "    joined = joined[joined['case:concept:name_l'] == joined['case:concept:name_r']]\n",
    "    #make lists\n",
    "    df_aggregated = joined.groupby(['concept:name_l', 'concept:name_r']).agg(lambda x: x.tolist())\n",
    "    df_melted = pd.melt(df_aggregated.reset_index(), id_vars=['concept:name_l', 'concept:name_r'],\n",
    "                            value_vars=df_aggregated.columns)\n",
    "    df_final = df_melted[df_melted['value'].map(lambda d: len(d)) > 0]\n",
    "\n",
    "    left_side_df = df_final[df_final['variable'].str.endswith('_l')]\n",
    "    left_side_df['variable'] = left_side_df['variable'].apply(lambda row: row.rstrip('_l'))\n",
    "    right_side_df = df_final[df_final['variable'].str.endswith('_r')]\n",
    "    right_side_df['variable'] = right_side_df['variable'].apply(lambda row: row.rstrip('_r'))\n",
    "    merged = left_side_df.merge(right_side_df, on=['variable', 'concept:name_l', 'concept:name_r'],\n",
    "                                suffixes=['_l', '_r'])\n",
    "\n",
    "    merged = merged[merged['value_l'] != merged['value_r']]\n",
    "\n",
    "    #calculate differences \n",
    "    if continuous: \n",
    "        merged['value'] = merged.apply(\n",
    "                lambda row: [float(row['value_r'][i]) - float(row['value_l'][i]) for i in range(0, len(row['value_l']))\n",
    "                                if (pd.api.types.is_numeric_dtype(type(row['value_l'][i])) and pd.api.types.is_numeric_dtype(type(row['value_r'][i])) and not pd.isna(row['value_l'][i]) and not pd.isna(row['value_r'][i]))],\n",
    "                axis=1)\n",
    "        merged.drop(['value_l', 'value_r'], axis=1, inplace=True)\n",
    "    else:    \n",
    "        merged['value'] = merged.apply(\n",
    "                lambda row: [str(row['value_l'][i]) + '-' + str(row['value_r'][i]) for i in range(0, len(row['value_l']))\n",
    "                        if (not pd.isna(row['value_l'][i]) and not pd.isna(row['value_r'][i]))],\n",
    "                axis=1)\n",
    "        merged.drop(['value_l', 'value_r'], axis=1, inplace=True)\n",
    "    return merged\n",
    "\n",
    "def filter_edge_df(df, attr, depart_A, depart_B):\n",
    "    #keep the list from the rows with the correct attributes and the correct departments\n",
    "    return df[(df['variable']==attr)&(df['concept:name_l']==depart_A)&(df['concept:name_r']==depart_B)]['value'].iloc[0]\n",
    "\n",
    "def do_statistics_edge(young, old, attribute, depart_A, depart_B, continuous=True, show_fig=False):\n",
    "    young = prepare_edge_df(young, continuous=continuous)\n",
    "    old = prepare_edge_df(old, continuous=continuous)\n",
    "    \n",
    "    young = filter_edge_df(young, attribute, depart_A, depart_B)\n",
    "    old = filter_edge_df(old, attribute, depart_A, depart_B)\n",
    "    \n",
    "    print(len(young))\n",
    "    print(len(old))\n",
    "\n",
    "    if show_fig and continuous:\n",
    "        make_figure(young, old, attribute)\n",
    "    if continuous:\n",
    "        return pg.mwu(young, old) \n",
    "    else: \n",
    "        df_y = pd.DataFrame(data={attribute: pd.Series(young)})\n",
    "        df_y['Age'] = '<60'\n",
    "        df_o = pd.DataFrame(data={attribute: pd.Series(old)})\n",
    "        df_o['Age'] = '>60'\n",
    "        df_combined = pd.concat([df_y, df_o])\n",
    "        #print(df_combined)\n",
    "        _, _, stats = pg.chi2_independence(df_combined, x='Age', y=attribute)\n",
    "        pearson_stats = stats[stats['test'] == 'pearson']\n",
    "        if show_fig:\n",
    "            make_figure_cat(young, old, attribute)\n",
    "        return pearson_stats\n"
   ]
  },
  {
   "cell_type": "code",
   "execution_count": null,
   "id": "15118a73",
   "metadata": {},
   "outputs": [],
   "source": [
    "do_statistics_edge(kidney_under_60, kidney_over_60, 'Abnormal Phosphate', 'Surgical ICU', 'Post-ICU Medicine', continuous=False, show_fig=True)"
   ]
  }
 ],
 "metadata": {
  "kernelspec": {
   "display_name": "seminarpa2c",
   "language": "python",
   "name": "python3"
  },
  "language_info": {
   "codemirror_mode": {
    "name": "ipython",
    "version": 3
   },
   "file_extension": ".py",
   "mimetype": "text/x-python",
   "name": "python",
   "nbconvert_exporter": "python",
   "pygments_lexer": "ipython3",
   "version": "3.9.20"
  }
 },
 "nbformat": 4,
 "nbformat_minor": 5
}
